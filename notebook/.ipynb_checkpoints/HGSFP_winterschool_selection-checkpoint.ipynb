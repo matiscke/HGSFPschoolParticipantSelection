{
 "cells": [
  {
   "cell_type": "markdown",
   "metadata": {},
   "source": [
    "# Participant Selection for the HGSFP Winter School 2019\n",
    "\n",
    "This notebook documents the participant selection procedure for the HGSFP Winter School 2019.\n",
    "\n",
    "Disclaimer: This Jupyter notebook is based on a tutorial notebook for the participant selection for Python in Astronomy 2017 by Daniela Huppenkothen, which is available at https://github.com/dhuppenkothen/PyAstro17ParticipantSelection. Vast portions of the present notebook have been adopted from there, and some parts were retained verbatim. We are very thankful to Daniela Huppenkothen and the pyastro17 SOC for providing their insightful notebook and for making their selection process transparent and comprehensible.\n",
    "\n",
    "---------------------------\n",
    "\n",
    "For privacy reasons, this notebook uses data that has been completely randomized within categories, thus no candidate is individually identifiable (and names and other markers of identity have been removed completely).\n",
    "\n",
    "For this reason, the results of this procedure do not exactly mirror the results of our participant selection: the candidates in our data set here are random combinations that follow the input distributions of our real data, and not actual people. We felt it was important to be both transparent about and accountable for our selection procedure. This notebook is designed to give the reader an overview of the procedure from start to finish, and we have added our reasoning for certain choices where those were part of the selection. The notebook is also an example of what this kind of procedure can look like, and thus a kind of tutorial for other conference organizers.\n",
    "\n",
    "Our procedures for admitting participants is constantly evolving as we tweak, make mistakes and learn from them. If you have any suggestions for future procedures (or more generally have thoughts about participant selection), we would love to hear from you either via an issue on this repository, or an e-mail to **winterschool2019@physi.uni-heidelberg.de**.\n",
    "\n",
    "## Asking The Right Questions\n",
    "\n",
    "Designing the application form was perhaps the most difficult task, and it is at this stage that conference organizers will already want to put serious thought into the goals of the workshop and the ideal mix of participants to achieve those goals. It should be obvious, but it bears repeating: you will only be able to include categories in your selection that you actually ask for! \n",
    "\n",
    "## Pre-selection\n",
    "Excluding speakers, we have 52 spots for the meeting.\n",
    "Our participant selection proceeded in two parts. In the first part, \n",
    "we rejected candidates outright who were either (1) duplicate entries or (2) candidates who had informed us that they would not be able to come.\n",
    "\n",
    "Two spots were reserved for the HGSFP representatives. \n",
    "\n",
    "Finally, we pre-selected the organizing committee, who needs to be present at the school. Thus, a total of 8 participants (6 organizers, 2 representatives) were pre-selected.\n",
    "\n",
    "We then anonymized our applicant pool by replacing names and other identifying information with a unique identifier. \n",
    "\n",
    "## Participant Selection\n",
    "\n",
    "For the remaining 52 - 8 = 44 slots, we used `Entrofy` to optimize our participant set based on a set of well-defined criteria on which the organizers agreed. It's worth noting here that this discussion took place _before_ performing the selection, which then depended entirely on the _goals_ for the selection and was independent of the input data set. \n",
    "\n",
    "### Imports"
   ]
  },
  {
   "cell_type": "code",
   "execution_count": null,
   "metadata": {
    "collapsed": true
   },
   "outputs": [],
   "source": [
    "%matplotlib inline\n",
    "import matplotlib.pyplot as plt\n",
    "import seaborn as sns\n",
    "\n",
    "import numpy as np\n",
    "import entrofy\n",
    "import pandas as pd\n",
    "import datetime"
   ]
  },
  {
   "cell_type": "markdown",
   "metadata": {},
   "source": [
    "## Data Loading\n",
    "\n",
    "Pandas to the rescue!"
   ]
  },
  {
   "cell_type": "code",
   "execution_count": null,
   "metadata": {
    "collapsed": true
   },
   "outputs": [],
   "source": [
    "applicants = pd.read_csv(\"../data/applicants.csv\", sep=\",\")"
   ]
  },
  {
   "cell_type": "markdown",
   "metadata": {},
   "source": [
    "Rename some columns with lengthy names"
   ]
  },
  {
   "cell_type": "code",
   "execution_count": null,
   "metadata": {
    "collapsed": true
   },
   "outputs": [],
   "source": [
    "columnsRename = {\n",
    "    'Unnamed: 0':'No',\n",
    "    'Username':'email',\n",
    "    'HGSFP Branch':'branch',\n",
    "    'First Name':'firstname',\n",
    "    'Last Name':'lastname',\n",
    "    'Matriculation Number (if enrolled)':'matrikel',\n",
    "    'Have you attended an HGSFP Winter School before?':'alrPart',\n",
    "    'Gender':'gender',\n",
    "    'When did you start your PhD?':'startP',\n",
    "    'Poster Abstract':'Abstract',\n",
    "    'Affiliation of Authors':'Affiliation',\n",
    "    'Names of Authors':'Autor',\n",
    "    'Name of your Supervisor/Professor/PI':'SuperWork',\n",
    "    'Thesis subject':'ThesisSub',\n",
    "    'Poster Title ':'TitleOfPoster',\n",
    "    'Residential Address':'address',\n",
    "    'Date of Birth':'birth',\n",
    "    'Do you plan to bring your own skiing/snowboarding equipment?':'equipment',\n",
    "    'Mobile Number':'mobil',\n",
    "    'I have noted that during the school activities pictures may be taken, which may be used for promotion purposes of the HGSFP (e.g., website). I will contact the organizers directly if I do not agree with the usage of my pictures.* ':'duty',\n",
    "    'Please describe your motivation for attending the winter school in up to two sentences.':'motivation'\n",
    "}\n",
    "applicants.rename(index=str, columns=columnsRename, inplace=True)"
   ]
  },
  {
   "cell_type": "markdown",
   "metadata": {},
   "source": [
    "Let's have a look at the data:"
   ]
  },
  {
   "cell_type": "code",
   "execution_count": null,
   "metadata": {},
   "outputs": [],
   "source": [
    "applicants.head()"
   ]
  },
  {
   "cell_type": "markdown",
   "metadata": {},
   "source": [
    "Check for duplicates based on the email addresses"
   ]
  },
  {
   "cell_type": "code",
   "execution_count": null,
   "metadata": {},
   "outputs": [],
   "source": [
    "len(applicants) == applicants.email.nunique()"
   ]
  },
  {
   "cell_type": "markdown",
   "metadata": {},
   "source": [
    "add Organizers, and preselected participants to list of accepted participants \n",
    "'rejected' candidates include applicants who have declined their participation."
   ]
  },
  {
   "cell_type": "code",
   "execution_count": null,
   "metadata": {},
   "outputs": [],
   "source": [
    "# lists of rejected/pre-selected participants (random names from listofrandomnames.com)\n",
    "rejected = []\n",
    "organizers = ['Parkman', 'Morant', 'Cerna', 'Wellman', 'Knaack', 'Deemer']\n",
    "representatives = ['Mueller','Mayer']\n",
    "# speakers = []\n",
    "\n",
    "applicants.loc[applicants.lastname.isin(rejected), 'rejected'] = 1\n",
    "applicants.loc[applicants.lastname.isin(organizers), 'accepted'] = 1\n",
    "applicants.loc[applicants.lastname.isin(representatives), 'accepted'] = 1\n",
    "SOC_idx = list(applicants[(applicants.lastname.isin(organizers))\n",
    "                          | (applicants.lastname.isin(representatives))].index)\n",
    "# applicants.loc[applicants.lastname.isin(speakers), 'accepted'] = 1\n",
    "\n",
    "print(\"\"\"After pre-selection, we have {} accepted participants from {} applicants. \n",
    "      {} are marked rejected/declined.\"\"\".format(int(applicants.accepted.sum()), len(applicants), int(applicants.rejected.sum())))"
   ]
  },
  {
   "cell_type": "markdown",
   "metadata": {},
   "source": [
    "Let's convert some columns to reasonable data types:"
   ]
  },
  {
   "cell_type": "code",
   "execution_count": null,
   "metadata": {
    "collapsed": true
   },
   "outputs": [],
   "source": [
    "applicants[\"rejected\"] = applicants[\"rejected\"].astype(\"str\")\n",
    "applicants[\"alrPart\"] = applicants[\"alrPart\"].astype(\"str\")\n",
    "applicants[\"branch\"] = applicants['branch'].astype('str')\n",
    "applicants['gender'] = applicants['gender'].astype('str')\n",
    "applicants['startP'] = pd.to_datetime(applicants['startP'])"
   ]
  },
  {
   "cell_type": "markdown",
   "metadata": {},
   "source": [
    "The columns encode the following information:\n",
    "\n",
    "* `gender`: The gender identity as stated by the applicant\n",
    "* `alrPart`: responses to the question _\"Have you attended an HGSFP winter school before?\"_\n",
    "* `branch`: The HGSFP branch the applicant is affiliated with\n",
    "* `startP`: The date of the start of a person's PhD \n",
    "\n",
    "### Prepare anonymized table for entrofy\n",
    "We save the applicants table for later reference, then for the following drop all fields that enable identification of a person, as well as fields that are not used by entrofy"
   ]
  },
  {
   "cell_type": "code",
   "execution_count": null,
   "metadata": {
    "collapsed": true,
    "scrolled": true
   },
   "outputs": [],
   "source": [
    "preselect_idx = applicants[applicants['accepted'] == 1].index\n",
    "rejected_idx = applicants[applicants['rejected'] == 1].index"
   ]
  },
  {
   "cell_type": "code",
   "execution_count": null,
   "metadata": {
    "collapsed": true
   },
   "outputs": [],
   "source": [
    "anonym = applicants.copy(deep=True)"
   ]
  },
  {
   "cell_type": "markdown",
   "metadata": {},
   "source": [
    "Transform PhD start dates to time deltas till today (in days)\n"
   ]
  },
  {
   "cell_type": "code",
   "execution_count": null,
   "metadata": {
    "collapsed": true,
    "scrolled": true
   },
   "outputs": [],
   "source": [
    "deltaPhd = datetime.datetime.now() - anonym['startP']\n",
    "deltaPhd = deltaPhd.astype('timedelta64[D]')\n",
    "anonym['phdDur'] = deltaPhd"
   ]
  },
  {
   "cell_type": "markdown",
   "metadata": {},
   "source": [
    "drop columns not needed for the optimization procedure"
   ]
  },
  {
   "cell_type": "code",
   "execution_count": null,
   "metadata": {},
   "outputs": [],
   "source": [
    "anonym = anonym.drop(['No','Abstract','Affiliation','Autor','Institute','SuperWork',\n",
    "                      'ThesisSub', 'TitleOfPoster','address','birth','duty',\n",
    "                      'email','firstname','lastname','equipment','matrikel',\n",
    "                      'mobil', 'accepted','Timestamp',\n",
    "                      'rejected', 'startP', 'motivation','notes'], axis=1)"
   ]
  },
  {
   "cell_type": "code",
   "execution_count": null,
   "metadata": {},
   "outputs": [],
   "source": [
    "anonym"
   ]
  },
  {
   "cell_type": "markdown",
   "metadata": {},
   "source": [
    "----------------------------\n",
    "\n",
    "## Setting Up Entrofy\n",
    "\n",
    "Okay, now we're ready to set up entrofy for selection. This will invovle tots and lots of dictionaries! "
   ]
  },
  {
   "cell_type": "markdown",
   "metadata": {},
   "source": [
    "There are two important decisions to make for each category (=column): (1) set its weight and (2) set the relative target fractions for each possible answer within a category.\n",
    "\n",
    "The weight essentially sets the relative importance of the questions we asked compared to each other. The target fractions decide for each category what fraction of participants should ideally have that characteristic. One example would be a split of, say 0.1 for participants with previous winter school participation, and 0.9 for participants without. \n",
    "\n",
    "**Note**: Setting target fractions is the single most important part of the selection procedure. It is here that a discussion about the goals of the workshop is of crucial importance, because those goals will necessarily inform the target fractions to be set.\n",
    "\n",
    "At first, we set all weights to 1, giving equal weight to all categories:"
   ]
  },
  {
   "cell_type": "code",
   "execution_count": null,
   "metadata": {
    "collapsed": true
   },
   "outputs": [],
   "source": [
    "weights = dict([(c, 1.0) for c in anonym.columns])"
   ]
  },
  {
   "cell_type": "markdown",
   "metadata": {},
   "source": [
    "`entrofy` works with a class called `Mappers`. These mappers essentially map target fractions to possible values within categories and contain a lot of information about how the code mades choices. For columns with discrete, unordered responses, we can use the `CategoricalMapper` class to construct mappers. For continuous inputs, there is a `ContinuousMapper` class."
   ]
  },
  {
   "cell_type": "code",
   "execution_count": null,
   "metadata": {
    "collapsed": true
   },
   "outputs": [],
   "source": [
    "datatypes = dict([(c, \"categorical\") for c in anonym.columns])\n",
    "datatypes = {\n",
    "    'phdDur' : 'continuous',\n",
    "    'alrPart' : 'categorical',\n",
    "    'branch' :'categorical',\n",
    "    'gender' :'categorical'\n",
    "}"
   ]
  },
  {
   "cell_type": "code",
   "execution_count": null,
   "metadata": {},
   "outputs": [],
   "source": [
    "mappers = entrofy.core.construct_mappers(anonym, weights, datatypes=datatypes)"
   ]
  },
  {
   "cell_type": "markdown",
   "metadata": {},
   "source": [
    "`entrofy` has some plotting capabilities. in particular, it has the ability to make a corner plot to display the relative distributions in the input data set, as well as correlations between different input categories. \n",
    "\n",
    "**Note**: We will plot our data here as an example, but it is generally inadvisable to do this *before* having decided on target fractions, because the targets should be a function of the *goals* of the workshop, rather than the input data set."
   ]
  },
  {
   "cell_type": "code",
   "execution_count": null,
   "metadata": {
    "scrolled": false
   },
   "outputs": [],
   "source": [
    "fig, axes = entrofy.plotting.plot_triangle(anonym, weights, mappers=mappers)\n",
    "# fix axis ticks\n",
    "for axess in axes:\n",
    "    for a in axess:\n",
    "        xticks = a.xaxis.get_ticklabels()\n",
    "        a.xaxis.set_ticklabels(xticks, rotation=90)"
   ]
  },
  {
   "cell_type": "markdown",
   "metadata": {},
   "source": [
    "## Targets\n",
    "\n",
    "Now we can define some targets. Each category (e.g. \"already participated\") has a discrete, finite number of possible outcomes (e.g. \"yes\" and \"no\"). The targets define the fraction of participants in the final output set who share the same value (e.g. 10% of participants should be in \"yes\"). \n",
    "The target fractions must sum up to be smaller or equal to 1.0 for each category. If the target fractions sum to a value smaller than one, the algorithm will try to fill up categories to *at least* the given fractions, and will ignore that category for the rest of the optimization procedure. The resulting mix of participants in the final set for this category will thus be a combination of the input fractions and the distribution in the input sample, conditioned on the constraints set by the remaining categories.\n",
    "\n",
    "Below, we will go through each category one by one and lay out our reasoning for the categories chosen. The justification for our choices is an abbreviated version of a longer discussion the organizing committee had before starting the selection procedure. We should note at this point that there is no \"correct\" way to choose target fractions; the target fractions must necessarily always be a function of the objectives and goals of the workshop, as defined by the organizers, and may also depend on how the organizers see the role of the workshop in the larger community.\n",
    "\n",
    "## Selection Goals\n",
    "Broadly, the goals we defined for the HGSFP Winter School 2018 for participant selection are the following:\n",
    "* enable every HGSFP student to attend one winter school during their PhD:\n",
    "    * => strongly favor applicants that have not attended a HGSFP winter school before\n",
    "    * => favor applicants that are longer into their PhD (since the clock is ticking...)\n",
    "* Reflect the student numbers of the different HGSFP branches\n",
    "* Increase the participation of underrepresented minorities (in our case this translates to an effort for gender equality)"
   ]
  },
  {
   "cell_type": "markdown",
   "metadata": {},
   "source": [
    "#### HGSFP branch\n",
    "For the branch attribute, we aim to reflect the distribution of the overall branch affiliation"
   ]
  },
  {
   "cell_type": "code",
   "execution_count": null,
   "metadata": {},
   "outputs": [],
   "source": [
    "anonym[\"branch\"].unique()"
   ]
  },
  {
   "cell_type": "code",
   "execution_count": null,
   "metadata": {},
   "outputs": [],
   "source": [
    "fig, ax = plt.subplots(1, 1)\n",
    "entrofy.plotting.plot_distribution(anonym, \"branch\", ax=ax)\n",
    "xticks = ax.xaxis.get_ticklabels()\n",
    "ax.xaxis.set_ticklabels(xticks, rotation=90);"
   ]
  },
  {
   "cell_type": "code",
   "execution_count": null,
   "metadata": {
    "collapsed": true
   },
   "outputs": [],
   "source": [
    "branch_targets = {\n",
    "    'Fundamental Interactions and Cosmology' : 0.25,\n",
    "    'Astronomy and Cosmic Physics' : 0.25,\n",
    "    'Quantum Dynamics and Complex Quantum Systems' : 0.25,\n",
    "    'Complex Classical Systems' : 0.08333,\n",
    "    'Mathematical Physics' : 0.08333,\n",
    "    'Environmental Physics' : 0.08333\n",
    "        }"
   ]
  },
  {
   "cell_type": "code",
   "execution_count": null,
   "metadata": {
    "collapsed": true
   },
   "outputs": [],
   "source": [
    "mappers[\"branch\"].targets = branch_targets"
   ]
  },
  {
   "cell_type": "markdown",
   "metadata": {},
   "source": [
    "Since this category is not directly connected to our top-priority requirement of enabling every HGSFP student the participation of at least one winter school, we give a weight of less than 1 for this category:"
   ]
  },
  {
   "cell_type": "code",
   "execution_count": null,
   "metadata": {
    "collapsed": true
   },
   "outputs": [],
   "source": [
    "weights[\"branch\"] = 0.7"
   ]
  },
  {
   "cell_type": "markdown",
   "metadata": {},
   "source": [
    "#### Previous Winter School Attendance\n",
    "\n",
    "Derived from our top requirement, the acceptance of applicants with previous attendance of a winter school should be an exception. We decided if we allow previous attendees at all based on the oversubscription of the school. The latter was not very high, we therefore decided to accept applicants with previous attendence only via the waiting list. We enforce this criterion further below and do not solve for this parameter."
   ]
  },
  {
   "cell_type": "code",
   "execution_count": null,
   "metadata": {
    "collapsed": true
   },
   "outputs": [],
   "source": [
    "# already participated applicants only for waiting list\n",
    "mappers[\"alrPart\"].targets[\"Yes\"] = 0.\n",
    "mappers[\"alrPart\"].targets[\"No\"] = 1."
   ]
  },
  {
   "cell_type": "code",
   "execution_count": null,
   "metadata": {
    "collapsed": true
   },
   "outputs": [],
   "source": [
    "weights[\"alrPart\"] = 999."
   ]
  },
  {
   "cell_type": "markdown",
   "metadata": {},
   "source": [
    "#### Gender Identity\n",
    "\n",
    "Any social engineering involving gender is necessarily subject to scrutiny. \n",
    "Our choices here reflect our beliefs about what we would like the Winter School to be:\n",
    "\n",
    "* We recognize that underrepresented minorities are particularly underrepresented in physics, which is reflected in the number of non-male PhD students.\n",
    "* We also recognize studies that show that diverse groups outperform groups lacking diversity among several axes\n",
    "* Representation is important: we believe that minority participants might feel more comfortable participating if they do not feel singled out based on their gender.\n",
    "\n",
    "Realizing that an equal representation of genders cannot be realized given the input set, we choose to set a goal fraction of female participants slightly higher than the corresponding share in the HGSFP and allow a sufficient margin for the option \"Don't identify with either\"."
   ]
  },
  {
   "cell_type": "code",
   "execution_count": null,
   "metadata": {
    "collapsed": true
   },
   "outputs": [],
   "source": [
    "mappers[\"gender\"].targets = {\"Female\": 0.4, \"Male\": 0.5, \"Don't identify with either\" : 0.1}"
   ]
  },
  {
   "cell_type": "markdown",
   "metadata": {},
   "source": [
    "#### PhD Duration\n",
    "\n",
    "We aim to give senior PhD students that have not participated in a Winter School before an advantage in the selection, since they have less or no opportunities to re-apply next year."
   ]
  },
  {
   "cell_type": "markdown",
   "metadata": {},
   "source": [
    "We have to turn the continuous variable \"PhD Duration\" into a binned quantity and do this by dividing the duration into 1-year bins with an ultimate bin for durations greater than 3 years:"
   ]
  },
  {
   "cell_type": "code",
   "execution_count": null,
   "metadata": {
    "collapsed": true
   },
   "outputs": [],
   "source": [
    "boundaries = [0., 365., 730., 1095., max(anonym.phdDur)]\n",
    "column_names = ['1st', '2nd', '3rd', '4th']\n",
    "targets = {'1st' : 0.15, '2nd' : 0.15, '3rd' : 0.30, '4th' : 0.40}\n",
    "mappers['phdDur'] = entrofy.mappers.ContinuousMapper(anonym['phdDur'], n_out=4,\n",
    "                                                    boundaries=boundaries, targets=targets,\n",
    "                                                    column_names=column_names)"
   ]
  },
  {
   "cell_type": "markdown",
   "metadata": {},
   "source": [
    "### Running Entrofy\n",
    "\n",
    "We are now almost ready to run the code. \n",
    "\n",
    "Because some categories have the same responses (e.g. \"Yes\" and \"No\"), we need to add prefixes to the mappers so that answers that appear in multiple columns get attributed correctly:"
   ]
  },
  {
   "cell_type": "code",
   "execution_count": null,
   "metadata": {
    "collapsed": true
   },
   "outputs": [],
   "source": [
    "for key in mappers.keys():\n",
    "    mappers[key].prefix = key + \"_\""
   ]
  },
  {
   "cell_type": "markdown",
   "metadata": {},
   "source": [
    "Exclude entries not in the SOC who participated before"
   ]
  },
  {
   "cell_type": "code",
   "execution_count": null,
   "metadata": {},
   "outputs": [],
   "source": [
    "optout = list(anonym[(anonym.alrPart == \"Yes\") & (~anonym.index.isin(SOC_idx))].index)\n",
    "optout"
   ]
  },
  {
   "cell_type": "code",
   "execution_count": null,
   "metadata": {},
   "outputs": [],
   "source": [
    "candidates4opt = len(applicants[(applicants.alrPart == \"No\") | (applicants.index.isin(SOC_idx))])\n",
    "print(\"We have {} candidates joining the optimization: these are SOC members plus candidates without previous participation.\".format(candidates4opt))"
   ]
  },
  {
   "cell_type": "markdown",
   "metadata": {},
   "source": [
    "Now we're actually ready to run entrofy. We will select for 52 participants, using the pre-selected candidates as a starting point for the optimization. They are included in the procedure so that their attributes will explicitly count towards the total fractions in each category. "
   ]
  },
  {
   "cell_type": "code",
   "execution_count": null,
   "metadata": {},
   "outputs": [],
   "source": [
    "idx, max_score = entrofy.core.entrofy(anonym, 52, \n",
    "                                      pre_selects=preselect_idx,\n",
    "                                      opt_outs=optout,\n",
    "                                      mappers=mappers,\n",
    "                                      weights=weights, seed=20)"
   ]
  },
  {
   "cell_type": "code",
   "execution_count": null,
   "metadata": {},
   "outputs": [],
   "source": [
    "max_score"
   ]
  },
  {
   "cell_type": "markdown",
   "metadata": {},
   "source": [
    "Let's make a data set with just the output set:"
   ]
  },
  {
   "cell_type": "code",
   "execution_count": null,
   "metadata": {
    "collapsed": true
   },
   "outputs": [],
   "source": [
    "df_out = anonym.iloc[idx]"
   ]
  },
  {
   "cell_type": "markdown",
   "metadata": {},
   "source": [
    "Here are the distributions of the output set:"
   ]
  },
  {
   "cell_type": "code",
   "execution_count": null,
   "metadata": {
    "collapsed": true,
    "scrolled": true
   },
   "outputs": [],
   "source": [
    "fig, ax  = entrofy.plotting.plot_triangle(df_out, weights,\n",
    "                                          mappers=mappers,\n",
    "                                          cat_type=\"violin\")\n",
    "# fix axis ticks\n",
    "for axes in ax:\n",
    "    for a in axes:\n",
    "        xticks = a.xaxis.get_ticklabels()\n",
    "        a.xaxis.set_ticklabels(xticks, rotation=90)"
   ]
  },
  {
   "cell_type": "markdown",
   "metadata": {},
   "source": [
    "We can also visualize the results as bar plots for each category. In the following, blue bars represent the fraction of candidates with that particular attributes. Green bars represent the fraction of participants in the output set with that attribute, and dashed black lines show the user-defined targets. This allows easy comparison between input/output sample as well as how closely the output set matches the targets."
   ]
  },
  {
   "cell_type": "code",
   "execution_count": null,
   "metadata": {
    "collapsed": true,
    "scrolled": true
   },
   "outputs": [],
   "source": [
    "for c in anonym.columns:\n",
    "    _, _ = entrofy.plotting.plot_fractions(anonym[c], idx,\n",
    "                                       c, mappers[c])"
   ]
  },
  {
   "cell_type": "markdown",
   "metadata": {},
   "source": [
    "These are, of course, not the exact numbers, since the data set used in this notebook only resembles the real sample in the aggregate."
   ]
  },
  {
   "cell_type": "markdown",
   "metadata": {},
   "source": [
    "### Unblinding\n",
    "At this point, we finally un-blinded ourselves and printed out the names and e-mail addresses for the accepted sample set so that we could start sending out acceptance e-mails.\n",
    "\n",
    "Aside from the organizers and representatives, the entire procedure was performed entirely without names and based only on the candidates' responses and the complex optimization of the participant selection with respect to the goals of our selection.  "
   ]
  },
  {
   "cell_type": "code",
   "execution_count": null,
   "metadata": {
    "collapsed": true
   },
   "outputs": [],
   "source": [
    "applicants.loc[idx, 'accepted'] = 1.\n",
    "accepted = applicants.loc[idx]"
   ]
  },
  {
   "cell_type": "code",
   "execution_count": null,
   "metadata": {
    "collapsed": true
   },
   "outputs": [],
   "source": [
    "len(accepted)"
   ]
  },
  {
   "cell_type": "markdown",
   "metadata": {},
   "source": [
    "Check if all SOC members are in the accepted list"
   ]
  },
  {
   "cell_type": "code",
   "execution_count": null,
   "metadata": {
    "collapsed": true
   },
   "outputs": [],
   "source": [
    "accepted[accepted.index.isin(SOC_idx)].lastname"
   ]
  },
  {
   "cell_type": "markdown",
   "metadata": {},
   "source": [
    "Check if there are any non-SOC members who participated before"
   ]
  },
  {
   "cell_type": "code",
   "execution_count": null,
   "metadata": {
    "collapsed": true
   },
   "outputs": [],
   "source": [
    "np.any((accepted.alrPart == 'Yes') & (~accepted.index.isin(SOC_idx)))"
   ]
  },
  {
   "cell_type": "code",
   "execution_count": null,
   "metadata": {
    "collapsed": true
   },
   "outputs": [],
   "source": [
    "# accepted.to_csv(\"../data/accepted.csv\")\n",
    "accepted = pd.read_csv(\"../data/accepted.csv\")"
   ]
  },
  {
   "cell_type": "markdown",
   "metadata": {},
   "source": [
    "We also saved the remaining participants in a waitlist file."
   ]
  },
  {
   "cell_type": "code",
   "execution_count": null,
   "metadata": {
    "collapsed": true
   },
   "outputs": [],
   "source": [
    "waitlist = applicants.loc[~applicants.index.isin(idx)]"
   ]
  },
  {
   "cell_type": "code",
   "execution_count": null,
   "metadata": {
    "collapsed": true
   },
   "outputs": [],
   "source": [
    "waitlist.to_csv(\"../data/waitlist.csv\")"
   ]
  },
  {
   "cell_type": "code",
   "execution_count": null,
   "metadata": {
    "collapsed": true
   },
   "outputs": [],
   "source": [
    "len(waitlist)"
   ]
  },
  {
   "cell_type": "markdown",
   "metadata": {},
   "source": [
    "format list of email adresses so that email client can use it"
   ]
  },
  {
   "cell_type": "code",
   "execution_count": null,
   "metadata": {
    "collapsed": true
   },
   "outputs": [],
   "source": [
    "emailAddresses = [s for s in accepted.email.values]\n",
    "print(', '.join(emailAddresses))"
   ]
  },
  {
   "cell_type": "markdown",
   "metadata": {},
   "source": [
    "same for waitlist"
   ]
  },
  {
   "cell_type": "code",
   "execution_count": null,
   "metadata": {
    "collapsed": true
   },
   "outputs": [],
   "source": [
    "emailAddressesWaitlist = [s for s in waitlist.email.values]\n",
    "print(', '.join(emailAddressesWaitlist))"
   ]
  },
  {
   "cell_type": "markdown",
   "metadata": {},
   "source": [
    "### Email notifications\n",
    "At this point, all applicants were informed about the outcome and applicants in the 'accepted' list were asked to confirm their attendance within a specified period."
   ]
  },
  {
   "cell_type": "code",
   "execution_count": null,
   "metadata": {
    "collapsed": true
   },
   "outputs": [],
   "source": [
    "applicants.to_csv('../data/applicants.csv')"
   ]
  },
  {
   "cell_type": "markdown",
   "metadata": {},
   "source": [
    "We externally marked confirmed/rejected participants."
   ]
  },
  {
   "cell_type": "code",
   "execution_count": null,
   "metadata": {
    "collapsed": true
   },
   "outputs": [],
   "source": [
    "applicants = pd.read_csv('../data/applicants.csv')"
   ]
  },
  {
   "cell_type": "code",
   "execution_count": null,
   "metadata": {
    "collapsed": true
   },
   "outputs": [],
   "source": [
    "confirmed = applicants[applicants.confirmed == \"1\"]"
   ]
  },
  {
   "cell_type": "code",
   "execution_count": null,
   "metadata": {
    "collapsed": true
   },
   "outputs": [],
   "source": [
    "len(confirmed)"
   ]
  },
  {
   "cell_type": "markdown",
   "metadata": {
    "collapsed": true
   },
   "source": [
    "## After the selection\n",
    "\n",
    "Not all participants accepted our invitation on the first round. At the time of preparing this notebook, it was not clear how we want to fill the remaining spots. In the following, we will demonstrate one option: re-running the algorithm.\n",
    "\n",
    "\n",
    "To continue the selection procedure as we had done above, we removed those that declined from the set, and re-ran entrofy with those that had accepted as pre-selects. \n",
    "\n",
    "In the following, I will pick randomly from the set of accepted participants, since this is a simulated data set. This was of course not the case for the real sample, where the IDs corresponded to actual participants."
   ]
  },
  {
   "cell_type": "code",
   "execution_count": null,
   "metadata": {
    "collapsed": true
   },
   "outputs": [],
   "source": [
    "declined_accepted = np.random.choice(accepted.index, replace=False, size=11)"
   ]
  },
  {
   "cell_type": "code",
   "execution_count": null,
   "metadata": {
    "collapsed": true
   },
   "outputs": [],
   "source": [
    "declined_waitlist = np.random.choice(waitlist.index, replace=False, size=2)"
   ]
  },
  {
   "cell_type": "markdown",
   "metadata": {},
   "source": [
    "Now we make a new data frame with the set of participants who accepted:"
   ]
  },
  {
   "cell_type": "code",
   "execution_count": null,
   "metadata": {
    "collapsed": true
   },
   "outputs": [],
   "source": [
    "accepted_new = accepted.drop(declined_accepted)"
   ]
  },
  {
   "cell_type": "markdown",
   "metadata": {},
   "source": [
    "We also drop these from our original data frame, since they no longer matter to our selection procedure:"
   ]
  },
  {
   "cell_type": "code",
   "execution_count": null,
   "metadata": {
    "collapsed": true
   },
   "outputs": [],
   "source": [
    "anonym_new = anonym.drop(np.hstack([declined_accepted, declined_waitlist]))"
   ]
  },
  {
   "cell_type": "code",
   "execution_count": null,
   "metadata": {
    "collapsed": true
   },
   "outputs": [],
   "source": [
    "len(anonym_new)"
   ]
  },
  {
   "cell_type": "markdown",
   "metadata": {},
   "source": [
    "Let's run entrofy again for new waitlist picks. "
   ]
  },
  {
   "cell_type": "code",
   "execution_count": null,
   "metadata": {
    "collapsed": true
   },
   "outputs": [],
   "source": [
    "idx_new, max_score_new = entrofy.core.entrofy(anonym_new, 55, \n",
    "                                      pre_selects=accepted_new.index,\n",
    "                                      mappers=mappers,\n",
    "                                      weights=weights, seed=25)"
   ]
  },
  {
   "cell_type": "code",
   "execution_count": null,
   "metadata": {
    "collapsed": true
   },
   "outputs": [],
   "source": [
    "accepted_secondrun = anonym_new.loc[idx_new]"
   ]
  },
  {
   "cell_type": "code",
   "execution_count": null,
   "metadata": {
    "collapsed": true,
    "scrolled": true
   },
   "outputs": [],
   "source": [
    "idx_fromwaitlist = accepted_secondrun.drop(accepted_new.index).index"
   ]
  },
  {
   "cell_type": "code",
   "execution_count": null,
   "metadata": {
    "collapsed": true
   },
   "outputs": [],
   "source": [
    "idx_new"
   ]
  },
  {
   "cell_type": "markdown",
   "metadata": {},
   "source": [
    "At this point, we would print out the names of the newly selected participants and e-mail those as well."
   ]
  },
  {
   "cell_type": "code",
   "execution_count": null,
   "metadata": {
    "collapsed": true
   },
   "outputs": [],
   "source": [
    "from_waitlist_secondrun = anonym_new.loc[idx_fromwaitlist]"
   ]
  },
  {
   "cell_type": "markdown",
   "metadata": {},
   "source": [
    "Let's save the results of this run to file:"
   ]
  },
  {
   "cell_type": "code",
   "execution_count": null,
   "metadata": {
    "collapsed": true
   },
   "outputs": [],
   "source": [
    "from_waitlist_secondrun.to_csv(\"../data/secondrun_fromwaitlist.csv\", sep=\"\\t\")"
   ]
  },
  {
   "cell_type": "code",
   "execution_count": null,
   "metadata": {
    "collapsed": true
   },
   "outputs": [],
   "source": [
    "df_out_new = anonym_new.loc[idx_new]"
   ]
  },
  {
   "cell_type": "markdown",
   "metadata": {},
   "source": [
    "And we can plot the results of our selection again to see whether any categories notably changed: "
   ]
  },
  {
   "cell_type": "code",
   "execution_count": null,
   "metadata": {
    "collapsed": true,
    "scrolled": true
   },
   "outputs": [],
   "source": [
    "for c in mappers.keys():\n",
    "    _, _ = entrofy.plotting.plot_fractions(anonym_new[c], idx_new,\n",
    "                                       c, mappers[c])"
   ]
  },
  {
   "cell_type": "markdown",
   "metadata": {},
   "source": [
    "## Conclusion\n",
    "\n",
    "This notebook is an attempt to be transparent to our participants as well as those who did not get accepted this year, and as mentioned above, we welcome any feedback about the process as we attempt to learn from our experiences and improve for next year.\n",
    "\n",
    "Martin Schlecker, January 2019\n",
    "schlecker@mpia.de"
   ]
  }
 ],
 "metadata": {
  "kernelspec": {
   "display_name": "Python 3",
   "language": "python",
   "name": "python3"
  },
  "language_info": {
   "codemirror_mode": {
    "name": "ipython",
    "version": 3
   },
   "file_extension": ".py",
   "mimetype": "text/x-python",
   "name": "python",
   "nbconvert_exporter": "python",
   "pygments_lexer": "ipython3",
   "version": "3.6.3"
  }
 },
 "nbformat": 4,
 "nbformat_minor": 1
}
